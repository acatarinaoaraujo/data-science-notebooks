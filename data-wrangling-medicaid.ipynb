{
 "cells": [
  {
   "cell_type": "markdown",
   "metadata": {},
   "source": [
    "### Brief Overview \n",
    "\n",
    "- The goal of this assignment is to practice some important data wrangling functionality commonly required in real-world projects.\n",
    "\n",
    "- Here we will use two datasets:\n",
    "  - IRS Statistics of Income (SOI) dataset\n",
    "  - The Medicaid Data per State  \n",
    "\n",
    "\n",
    "- The final product here is a table with medication cost per Medicaid enrollee per state. This dataset will allow us to answer such questions as:\n",
    "  - Which medications account for the bulk of a state's spending   \n",
    "  - Which drugs are prescribed much more in one state compared to the other states.\n",
    "etc.\n"
   ]
  },
  {
   "cell_type": "code",
   "execution_count": 1,
   "metadata": {
    "pycharm": {
     "is_executing": true
    }
   },
   "outputs": [],
   "source": [
    "# import libraries\n",
    "import pandas as pd\n",
    "import numpy as np"
   ]
  },
  {
   "cell_type": "markdown",
   "metadata": {},
   "source": []
  },
  {
   "cell_type": "markdown",
   "metadata": {},
   "source": [
    "\n",
    "* Load the IRS Statistics of Income (SOI) dataset (tax_data.csv) into a `DataFrame` called `tax_data`. The file is `tax_data.csv` is located in the `data` directory of the assignment folder.\n",
    "\n",
    "* This dataset was preprocessed but the original one was obtained at the following URL:\n",
    "\n",
    "        https://www.irs.gov/pub/irs-soi/15zpallagi.csv\n"
   ]
  },
  {
   "cell_type": "code",
   "execution_count": 2,
   "metadata": {},
   "outputs": [],
   "source": [
    "tax_data = pd.read_csv(\"data/tax_data.csv\")"
   ]
  },
  {
   "cell_type": "markdown",
   "metadata": {},
   "source": [
    "* Use a `tax_data` method or property to display the first eight (8) rows of the `DataFrame`"
   ]
  },
  {
   "cell_type": "code",
   "execution_count": 3,
   "metadata": {},
   "outputs": [
    {
     "data": {
      "text/html": [
       "<div>\n",
       "<style scoped>\n",
       "    .dataframe tbody tr th:only-of-type {\n",
       "        vertical-align: middle;\n",
       "    }\n",
       "\n",
       "    .dataframe tbody tr th {\n",
       "        vertical-align: top;\n",
       "    }\n",
       "\n",
       "    .dataframe thead th {\n",
       "        text-align: right;\n",
       "    }\n",
       "</style>\n",
       "<table border=\"1\" class=\"dataframe\">\n",
       "  <thead>\n",
       "    <tr style=\"text-align: right;\">\n",
       "      <th></th>\n",
       "      <th>STATEFIPS</th>\n",
       "      <th>STATE</th>\n",
       "      <th>zipcode</th>\n",
       "      <th>agi_stub</th>\n",
       "      <th>N1</th>\n",
       "      <th>mars1</th>\n",
       "      <th>MARS2</th>\n",
       "      <th>MARS4</th>\n",
       "      <th>PREP</th>\n",
       "      <th>N2</th>\n",
       "      <th>...</th>\n",
       "      <th>N10300</th>\n",
       "      <th>A10300</th>\n",
       "      <th>N85530</th>\n",
       "      <th>A85530</th>\n",
       "      <th>N85300</th>\n",
       "      <th>A85300</th>\n",
       "      <th>N11901</th>\n",
       "      <th>A11901</th>\n",
       "      <th>N11902</th>\n",
       "      <th>A11902</th>\n",
       "    </tr>\n",
       "  </thead>\n",
       "  <tbody>\n",
       "    <tr>\n",
       "      <th>0</th>\n",
       "      <td>1.0</td>\n",
       "      <td>AL</td>\n",
       "      <td>0.0</td>\n",
       "      <td>1.0</td>\n",
       "      <td>836320.0</td>\n",
       "      <td>481570.0</td>\n",
       "      <td>109790.0</td>\n",
       "      <td>233260.0</td>\n",
       "      <td>455560.0</td>\n",
       "      <td>1356760.0</td>\n",
       "      <td>...</td>\n",
       "      <td>373410.0</td>\n",
       "      <td>328469.0</td>\n",
       "      <td>0.0</td>\n",
       "      <td>0.0</td>\n",
       "      <td>0.0</td>\n",
       "      <td>0.0</td>\n",
       "      <td>61920.0</td>\n",
       "      <td>48150.0</td>\n",
       "      <td>732670.0</td>\n",
       "      <td>1933120.0</td>\n",
       "    </tr>\n",
       "    <tr>\n",
       "      <th>1</th>\n",
       "      <td>1.0</td>\n",
       "      <td>AL</td>\n",
       "      <td>0.0</td>\n",
       "      <td>2.0</td>\n",
       "      <td>494830.0</td>\n",
       "      <td>206630.0</td>\n",
       "      <td>146250.0</td>\n",
       "      <td>129390.0</td>\n",
       "      <td>275920.0</td>\n",
       "      <td>1010990.0</td>\n",
       "      <td>...</td>\n",
       "      <td>395880.0</td>\n",
       "      <td>965011.0</td>\n",
       "      <td>0.0</td>\n",
       "      <td>0.0</td>\n",
       "      <td>0.0</td>\n",
       "      <td>0.0</td>\n",
       "      <td>73720.0</td>\n",
       "      <td>107304.0</td>\n",
       "      <td>415410.0</td>\n",
       "      <td>1187403.0</td>\n",
       "    </tr>\n",
       "    <tr>\n",
       "      <th>2</th>\n",
       "      <td>1.0</td>\n",
       "      <td>AL</td>\n",
       "      <td>0.0</td>\n",
       "      <td>3.0</td>\n",
       "      <td>261250.0</td>\n",
       "      <td>80720.0</td>\n",
       "      <td>139280.0</td>\n",
       "      <td>36130.0</td>\n",
       "      <td>155100.0</td>\n",
       "      <td>583910.0</td>\n",
       "      <td>...</td>\n",
       "      <td>251490.0</td>\n",
       "      <td>1333418.0</td>\n",
       "      <td>0.0</td>\n",
       "      <td>0.0</td>\n",
       "      <td>0.0</td>\n",
       "      <td>0.0</td>\n",
       "      <td>64200.0</td>\n",
       "      <td>139598.0</td>\n",
       "      <td>193030.0</td>\n",
       "      <td>536699.0</td>\n",
       "    </tr>\n",
       "    <tr>\n",
       "      <th>3</th>\n",
       "      <td>1.0</td>\n",
       "      <td>AL</td>\n",
       "      <td>0.0</td>\n",
       "      <td>4.0</td>\n",
       "      <td>166690.0</td>\n",
       "      <td>28510.0</td>\n",
       "      <td>124650.0</td>\n",
       "      <td>10630.0</td>\n",
       "      <td>99950.0</td>\n",
       "      <td>423990.0</td>\n",
       "      <td>...</td>\n",
       "      <td>165320.0</td>\n",
       "      <td>1414283.0</td>\n",
       "      <td>0.0</td>\n",
       "      <td>0.0</td>\n",
       "      <td>0.0</td>\n",
       "      <td>0.0</td>\n",
       "      <td>45460.0</td>\n",
       "      <td>128823.0</td>\n",
       "      <td>116440.0</td>\n",
       "      <td>377177.0</td>\n",
       "    </tr>\n",
       "    <tr>\n",
       "      <th>4</th>\n",
       "      <td>1.0</td>\n",
       "      <td>AL</td>\n",
       "      <td>0.0</td>\n",
       "      <td>5.0</td>\n",
       "      <td>212660.0</td>\n",
       "      <td>19520.0</td>\n",
       "      <td>184320.0</td>\n",
       "      <td>4830.0</td>\n",
       "      <td>126860.0</td>\n",
       "      <td>589490.0</td>\n",
       "      <td>...</td>\n",
       "      <td>212000.0</td>\n",
       "      <td>3820152.0</td>\n",
       "      <td>420.0</td>\n",
       "      <td>168.0</td>\n",
       "      <td>60.0</td>\n",
       "      <td>31.0</td>\n",
       "      <td>83330.0</td>\n",
       "      <td>421004.0</td>\n",
       "      <td>121570.0</td>\n",
       "      <td>483682.0</td>\n",
       "    </tr>\n",
       "    <tr>\n",
       "      <th>5</th>\n",
       "      <td>1.0</td>\n",
       "      <td>AL</td>\n",
       "      <td>0.0</td>\n",
       "      <td>6.0</td>\n",
       "      <td>55360.0</td>\n",
       "      <td>2950.0</td>\n",
       "      <td>49260.0</td>\n",
       "      <td>350.0</td>\n",
       "      <td>41410.0</td>\n",
       "      <td>160530.0</td>\n",
       "      <td>...</td>\n",
       "      <td>55300.0</td>\n",
       "      <td>6027793.0</td>\n",
       "      <td>22090.0</td>\n",
       "      <td>39519.0</td>\n",
       "      <td>27550.0</td>\n",
       "      <td>95112.0</td>\n",
       "      <td>28590.0</td>\n",
       "      <td>791573.0</td>\n",
       "      <td>15960.0</td>\n",
       "      <td>250289.0</td>\n",
       "    </tr>\n",
       "    <tr>\n",
       "      <th>6</th>\n",
       "      <td>1.0</td>\n",
       "      <td>AL</td>\n",
       "      <td>35004.0</td>\n",
       "      <td>1.0</td>\n",
       "      <td>1490.0</td>\n",
       "      <td>970.0</td>\n",
       "      <td>230.0</td>\n",
       "      <td>280.0</td>\n",
       "      <td>700.0</td>\n",
       "      <td>2160.0</td>\n",
       "      <td>...</td>\n",
       "      <td>690.0</td>\n",
       "      <td>610.0</td>\n",
       "      <td>0.0</td>\n",
       "      <td>0.0</td>\n",
       "      <td>0.0</td>\n",
       "      <td>0.0</td>\n",
       "      <td>120.0</td>\n",
       "      <td>94.0</td>\n",
       "      <td>1290.0</td>\n",
       "      <td>2792.0</td>\n",
       "    </tr>\n",
       "    <tr>\n",
       "      <th>7</th>\n",
       "      <td>1.0</td>\n",
       "      <td>AL</td>\n",
       "      <td>35004.0</td>\n",
       "      <td>2.0</td>\n",
       "      <td>1350.0</td>\n",
       "      <td>630.0</td>\n",
       "      <td>360.0</td>\n",
       "      <td>300.0</td>\n",
       "      <td>610.0</td>\n",
       "      <td>2540.0</td>\n",
       "      <td>...</td>\n",
       "      <td>1140.0</td>\n",
       "      <td>3019.0</td>\n",
       "      <td>0.0</td>\n",
       "      <td>0.0</td>\n",
       "      <td>0.0</td>\n",
       "      <td>0.0</td>\n",
       "      <td>210.0</td>\n",
       "      <td>301.0</td>\n",
       "      <td>1130.0</td>\n",
       "      <td>2935.0</td>\n",
       "    </tr>\n",
       "  </tbody>\n",
       "</table>\n",
       "<p>8 rows × 91 columns</p>\n",
       "</div>"
      ],
      "text/plain": [
       "   STATEFIPS STATE  zipcode  agi_stub        N1     mars1     MARS2     MARS4  \\\n",
       "0        1.0    AL      0.0       1.0  836320.0  481570.0  109790.0  233260.0   \n",
       "1        1.0    AL      0.0       2.0  494830.0  206630.0  146250.0  129390.0   \n",
       "2        1.0    AL      0.0       3.0  261250.0   80720.0  139280.0   36130.0   \n",
       "3        1.0    AL      0.0       4.0  166690.0   28510.0  124650.0   10630.0   \n",
       "4        1.0    AL      0.0       5.0  212660.0   19520.0  184320.0    4830.0   \n",
       "5        1.0    AL      0.0       6.0   55360.0    2950.0   49260.0     350.0   \n",
       "6        1.0    AL  35004.0       1.0    1490.0     970.0     230.0     280.0   \n",
       "7        1.0    AL  35004.0       2.0    1350.0     630.0     360.0     300.0   \n",
       "\n",
       "       PREP         N2  ...    N10300     A10300   N85530   A85530   N85300  \\\n",
       "0  455560.0  1356760.0  ...  373410.0   328469.0      0.0      0.0      0.0   \n",
       "1  275920.0  1010990.0  ...  395880.0   965011.0      0.0      0.0      0.0   \n",
       "2  155100.0   583910.0  ...  251490.0  1333418.0      0.0      0.0      0.0   \n",
       "3   99950.0   423990.0  ...  165320.0  1414283.0      0.0      0.0      0.0   \n",
       "4  126860.0   589490.0  ...  212000.0  3820152.0    420.0    168.0     60.0   \n",
       "5   41410.0   160530.0  ...   55300.0  6027793.0  22090.0  39519.0  27550.0   \n",
       "6     700.0     2160.0  ...     690.0      610.0      0.0      0.0      0.0   \n",
       "7     610.0     2540.0  ...    1140.0     3019.0      0.0      0.0      0.0   \n",
       "\n",
       "    A85300   N11901    A11901    N11902     A11902  \n",
       "0      0.0  61920.0   48150.0  732670.0  1933120.0  \n",
       "1      0.0  73720.0  107304.0  415410.0  1187403.0  \n",
       "2      0.0  64200.0  139598.0  193030.0   536699.0  \n",
       "3      0.0  45460.0  128823.0  116440.0   377177.0  \n",
       "4     31.0  83330.0  421004.0  121570.0   483682.0  \n",
       "5  95112.0  28590.0  791573.0   15960.0   250289.0  \n",
       "6      0.0    120.0      94.0    1290.0     2792.0  \n",
       "7      0.0    210.0     301.0    1130.0     2935.0  \n",
       "\n",
       "[8 rows x 91 columns]"
      ]
     },
     "execution_count": 3,
     "metadata": {},
     "output_type": "execute_result"
    }
   ],
   "source": [
    "tax_data.head(8)"
   ]
  },
  {
   "cell_type": "markdown",
   "metadata": {},
   "source": [
    "*  Modify `tax_data` to uppercase all the header name. \n",
    "  * Your answer can only use `DataFrame` or `Series` methods or properties\n",
    "  * Do not hardcode the operation by uppercasing the columns yourself\n",
    "  *  You can `tax_data.columns`, which returns a `Series` of the column names.\n",
    "  \n",
    "* The resulting column name should look as follows:\n",
    "\n",
    "\n",
    "```\n",
    "STATEFIPS    STATE    ZIPCODE    AGI_STUB    N1    MARS1    MARS2    MARS4    PREP    N2    ...    \n",
    "```\n",
    "\n",
    "This operation is useful for standardizing column names and avoid guessing whether the column header was in upper case, lower case or a mix of both."
   ]
  },
  {
   "cell_type": "code",
   "execution_count": 4,
   "metadata": {},
   "outputs": [],
   "source": [
    "tax_data.columns = tax_data.columns.str.upper()"
   ]
  },
  {
   "cell_type": "markdown",
   "metadata": {},
   "source": [
    "* What is the total number of entries (also called observations) in `tax_data`?\n",
    "\n",
    "  * Your answer can only use `DataFrame` or `Series` methods or properties"
   ]
  },
  {
   "cell_type": "code",
   "execution_count": 5,
   "metadata": {},
   "outputs": [
    {
     "data": {
      "text/plain": [
       "(166698, 91)"
      ]
     },
     "execution_count": 5,
     "metadata": {},
     "output_type": "execute_result"
    }
   ],
   "source": [
    "tax_data.shape"
   ]
  },
  {
   "cell_type": "markdown",
   "metadata": {},
   "source": [
    "- If `STATEFIPS` is header title of the first column of the `tax_data` `DataFrame`, what is the title of the 32nd column\n",
    "  - Your answer can only use `DataFrame` or `Series` methods or properties and should use a single python expression\n",
    "\n"
   ]
  },
  {
   "cell_type": "code",
   "execution_count": 6,
   "metadata": {},
   "outputs": [
    {
     "data": {
      "text/plain": [
       "'N00900'"
      ]
     },
     "execution_count": 6,
     "metadata": {},
     "output_type": "execute_result"
    }
   ],
   "source": [
    "tax_data.columns[31]"
   ]
  },
  {
   "cell_type": "markdown",
   "metadata": {},
   "source": [
    "* If `STATEFIPS` is the the first column, what is the index of the column name `N10300`?\n",
    "\n",
    "  * Your answer can only use `DataFrame` or `Series` methods or properties\n"
   ]
  },
  {
   "cell_type": "code",
   "execution_count": 7,
   "metadata": {},
   "outputs": [
    {
     "data": {
      "text/plain": [
       "81"
      ]
     },
     "execution_count": 7,
     "metadata": {},
     "output_type": "execute_result"
    }
   ],
   "source": [
    "tax_data.columns.get_loc(\"N10300\")"
   ]
  },
  {
   "cell_type": "markdown",
   "metadata": {},
   "source": [
    "* Print the count of unique zip codes in each state using descending order. Your answer can only use `DataFrame` or `Series` methods or properties. The result should look like the following ( '...' represents remaining data that is not shown),\n",
    "    ```python\n",
    "        ZIPCODE\n",
    "    STATE\n",
    "    TX          9714\n",
    "    NY          9238\n",
    "    CA          8908\n",
    "    PA          8208\n",
    "    IL          7386\n",
    "    ...\n",
    "    ```\n",
    "  The above indicates that there are 9,714 unique zipcodes in TX, 9,238 in NY, etc.\""
   ]
  },
  {
   "cell_type": "code",
   "execution_count": 8,
   "metadata": {},
   "outputs": [
    {
     "data": {
      "text/plain": [
       "STATE\n",
       "TX    9714\n",
       "NY    9238\n",
       "CA    8908\n",
       "PA    8208\n",
       "IL    7386\n",
       "OH    5988\n",
       "FL    5520\n",
       "MI    5352\n",
       "MO    5340\n",
       "IA    4962\n",
       "VA    4758\n",
       "MN    4751\n",
       "NC    4350\n",
       "WI    4284\n",
       "IN    4044\n",
       "GA    4002\n",
       "KY    3936\n",
       "KS    3588\n",
       "TN    3540\n",
       "AL    3462\n",
       "NJ    3282\n",
       "OK    3282\n",
       "WV    3072\n",
       "WA    2982\n",
       "AR    2940\n",
       "NE    2916\n",
       "MA    2892\n",
       "LA    2718\n",
       "MD    2430\n",
       "CO    2370\n",
       "SC    2256\n",
       "MS    2220\n",
       "ME    2220\n",
       "OR    2136\n",
       "AZ    1770\n",
       "ND    1722\n",
       "SD    1722\n",
       "CT    1584\n",
       "VT    1428\n",
       "NH    1392\n",
       "MT    1350\n",
       "ID    1278\n",
       "NM    1254\n",
       "UT    1116\n",
       "NV     768\n",
       "WY     654\n",
       "RI     426\n",
       "HI     360\n",
       "DE     342\n",
       "AK     336\n",
       "DC     144\n",
       "Name: ZIPCODE, dtype: int64"
      ]
     },
     "execution_count": 8,
     "metadata": {},
     "output_type": "execute_result"
    }
   ],
   "source": [
    "uniq_zip = tax_data.groupby('STATE')['ZIPCODE'].count().sort_values(ascending=False)\n",
    "uniq_zip"
   ]
  },
  {
   "cell_type": "markdown",
   "metadata": {},
   "source": [
    "- Identify the position of HI in the list of zip code counts per state (questions directly above)\n",
    "  - Your answer can only use `DataFrame` or `Series` methods or properties"
   ]
  },
  {
   "cell_type": "code",
   "execution_count": 9,
   "metadata": {},
   "outputs": [
    {
     "data": {
      "text/plain": [
       "47"
      ]
     },
     "execution_count": 9,
     "metadata": {},
     "output_type": "execute_result"
    }
   ],
   "source": [
    "df = pd.DataFrame(uniq_zip)\n",
    "df.index.get_loc('HI')"
   ]
  },
  {
   "cell_type": "markdown",
   "metadata": {},
   "source": [
    "### Identifying and Removing Ambiguous Zip Codes\n",
    "\n",
    "- Count the number of entries where ZIPCODE is 0, assign your results to a variable named  `nb_invalid_zip`"
   ]
  },
  {
   "cell_type": "code",
   "execution_count": 10,
   "metadata": {},
   "outputs": [
    {
     "data": {
      "text/plain": [
       "306"
      ]
     },
     "execution_count": 10,
     "metadata": {},
     "output_type": "execute_result"
    }
   ],
   "source": [
    "nb_invalid_zip = int((tax_data['ZIPCODE'] == 0).sum())\n",
    "nb_invalid_zip"
   ]
  },
  {
   "cell_type": "markdown",
   "metadata": {},
   "source": [
    "* Run the line below to make sure that `nb_invalid_zip` is an integer (`int`)\n",
    "  * Note that `assert` will only print an error if `type(nb_invalid_zip)` is not of type `int`\n",
    "  \n",
    "* If `nb_invalid_zip` then change your answer above so that the value returned is effectively a number."
   ]
  },
  {
   "cell_type": "code",
   "execution_count": 11,
   "metadata": {},
   "outputs": [],
   "source": [
    "assert(type(nb_invalid_zip) == int)"
   ]
  },
  {
   "cell_type": "markdown",
   "metadata": {},
   "source": [
    "- Remove from `tax_data` all the lines where the zip code is `0` and save resulting `DataFrame` to a variable named `tax_data_valid_zip`\n",
    "  - Your answer can only use `DataFrame` or `Series` methods or properties\n"
   ]
  },
  {
   "cell_type": "code",
   "execution_count": 12,
   "metadata": {},
   "outputs": [],
   "source": [
    "tax_data_valid_zip = tax_data[(tax_data[['ZIPCODE']] != 0).all(axis=1)]"
   ]
  },
  {
   "cell_type": "markdown",
   "metadata": {},
   "source": [
    "* Run the line below to confirm that the operation worked as expected\n",
    "\n",
    "  * The assertion below is testing that the number of lines with \"zip code equal to  0\" + number of lines in `tax_data_valid_zip` is equal to the number of lines in the original `DataFrame` `tax_data`\n",
    "  \n",
    "  * The assertion below will fail (and print an error message) if the results do not match. If that is the case, please review your code above."
   ]
  },
  {
   "cell_type": "code",
   "execution_count": 13,
   "metadata": {},
   "outputs": [],
   "source": [
    "assert((tax_data_valid_zip.shape[0] + nb_invalid_zip) == tax_data.shape[0])"
   ]
  },
  {
   "cell_type": "markdown",
   "metadata": {},
   "source": [
    "### Identifying and Removing Lines with Missing Values\n",
    "\n",
    "* How many lines contain at least one missing value `NaN` in the `tax_data_valid_zip` `DataFrame`?\n",
    "  * Your answer can only use `DataFrame` methods and properties\n",
    "* Assing the count of `NaN` into a variable called nb_missing_values"
   ]
  },
  {
   "cell_type": "code",
   "execution_count": 14,
   "metadata": {},
   "outputs": [
    {
     "data": {
      "text/plain": [
       "139"
      ]
     },
     "execution_count": 14,
     "metadata": {},
     "output_type": "execute_result"
    }
   ],
   "source": [
    "nb_missing_values = tax_data_valid_zip.isna().sum().sum()\n",
    "nb_missing_values"
   ]
  },
  {
   "cell_type": "markdown",
   "metadata": {},
   "source": [
    "* Create a new `DataFrame` containing all the lines from `tax_data_valid_zip`, except lines containing missing values\n",
    "\n",
    "* Call the new `DataFrame` `tax_data_valid_zip_cleaned"
   ]
  },
  {
   "cell_type": "code",
   "execution_count": 15,
   "metadata": {},
   "outputs": [
    {
     "data": {
      "text/plain": [
       "(166253, 91)"
      ]
     },
     "execution_count": 15,
     "metadata": {},
     "output_type": "execute_result"
    }
   ],
   "source": [
    "tax_data_valid_zip_cleaned = tax_data_valid_zip.dropna()\n",
    "tax_data_valid_zip_cleaned.shape"
   ]
  },
  {
   "cell_type": "markdown",
   "metadata": {},
   "source": [
    "* Run the line below to confirm that the operation worked as expected. The assertion below is testing that:  \n",
    "`nb_missing_values` + number of lines in `tax_data_valid_zip_cleaned` is equal to the number of lines in `tax_data_valid_zip`\n",
    "  \n",
    "* Note that assert will only print an error if the results do not match"
   ]
  },
  {
   "cell_type": "code",
   "execution_count": 16,
   "metadata": {},
   "outputs": [],
   "source": [
    "assert((tax_data_valid_zip_cleaned.shape[0] + nb_missing_values) == tax_data_valid_zip.shape[0])"
   ]
  },
  {
   "cell_type": "markdown",
   "metadata": {},
   "source": [
    "### Computing the Percentile Income per Zip Code\n",
    "\n",
    "* The function `compute_percentile_zipcode` below computes the percentile income per zip code\n",
    "\n",
    "* By default percentile=0.5,  i.e., the function computes the median\n",
    "\n",
    "* Read the code and make sure you understand what it does before moving on to the next question\n"
   ]
  },
  {
   "cell_type": "code",
   "execution_count": 17,
   "metadata": {},
   "outputs": [],
   "source": [
    "def compute_percentile_zip(df_zip, percentile=0.5):\n",
    "    index_median = sum(( df_zip[\"N1\"]/ sum(df_zip[\"N1\"])).cumsum() <= percentile)\n",
    "    val_below_or_at_median = (df_zip[\"A00100\"] /df_zip[\"N1\"]).iloc[index_median]\n",
    "    return val_below_or_at_median"
   ]
  },
  {
   "cell_type": "markdown",
   "metadata": {},
   "source": [
    "* Compute the 65th income percentile ( percentile=0.65) for each zipcode in `tax_data_valid_zip_cleaned` data frame\n",
    "\n",
    "  * Your answer can only use `DataFrame` or `Series` methods or properties\n",
    "  \n",
    "  * Recall that you can use the `apply` function to transform the values of a column\n",
    "  \n",
    "  \n",
    "* Sort the values in descending order and assign them to a new `DataFrame` called `zip_rev_all`\n",
    "* The resulting `Series` should look like the following( '...' represents remaining data that is not shown)\n",
    "\n",
    "```Python\n",
    "ZIPCODE\n",
    "33109    3954.114286\n",
    "33480    3413.301538\n",
    "...\n",
    "```"
   ]
  },
  {
   "cell_type": "code",
   "execution_count": 18,
   "metadata": {},
   "outputs": [
    {
     "data": {
      "text/plain": [
       "ZIPCODE\n",
       "33109.0    3954.114286\n",
       "33480.0    3413.301538\n",
       "94301.0    3109.443711\n",
       "94027.0    3091.537013\n",
       "10577.0    2414.855556\n",
       "              ...     \n",
       "53706.0       7.292857\n",
       "55455.0       7.210000\n",
       "48109.0       6.981250\n",
       "84112.0       6.597297\n",
       "59053.0       5.421429\n",
       "Length: 27683, dtype: float64"
      ]
     },
     "execution_count": 18,
     "metadata": {},
     "output_type": "execute_result"
    }
   ],
   "source": [
    "zip_rev_all = (tax_data.groupby('ZIPCODE').apply(compute_percentile_zip, percentile=0.65)).sort_values(ascending=False)\n",
    "zip_rev_all"
   ]
  },
  {
   "cell_type": "markdown",
   "metadata": {},
   "source": [
    "- What are the three zip codes with the most significant 65th percentile value for income?"
   ]
  },
  {
   "cell_type": "code",
   "execution_count": 19,
   "metadata": {},
   "outputs": [
    {
     "data": {
      "text/plain": [
       "ZIPCODE\n",
       "33109.0    3954.114286\n",
       "33480.0    3413.301538\n",
       "94301.0    3109.443711\n",
       "dtype: float64"
      ]
     },
     "execution_count": 19,
     "metadata": {},
     "output_type": "execute_result"
    }
   ],
   "source": [
    "zip_rev_all.head(3)"
   ]
  },
  {
   "cell_type": "markdown",
   "metadata": {},
   "source": [
    "# 2 Working with the Medicaid Data"
   ]
  },
  {
   "cell_type": "markdown",
   "metadata": {},
   "source": [
    "### Loading and exploring the data \n",
    "\n",
    "* Load the Medicaid data stored in the file `medicaid_data.csv` into a `DataFrame` called `medicaid_data`. The file is located in the `data` directory of the assignment folder. \n",
    "* Note that this is quite large and may take some time to load on a computer with modest RAM resources (4GB or less)\n"
   ]
  },
  {
   "cell_type": "code",
   "execution_count": 20,
   "metadata": {},
   "outputs": [
    {
     "data": {
      "text/html": [
       "<div>\n",
       "<style scoped>\n",
       "    .dataframe tbody tr th:only-of-type {\n",
       "        vertical-align: middle;\n",
       "    }\n",
       "\n",
       "    .dataframe tbody tr th {\n",
       "        vertical-align: top;\n",
       "    }\n",
       "\n",
       "    .dataframe thead th {\n",
       "        text-align: right;\n",
       "    }\n",
       "</style>\n",
       "<table border=\"1\" class=\"dataframe\">\n",
       "  <thead>\n",
       "    <tr style=\"text-align: right;\">\n",
       "      <th></th>\n",
       "      <th>Utilization Type</th>\n",
       "      <th>State</th>\n",
       "      <th>NDC</th>\n",
       "      <th>Product Name</th>\n",
       "      <th>Units Reimbursed</th>\n",
       "      <th>Number of Prescriptions</th>\n",
       "      <th>Total Amount Reimbursed</th>\n",
       "      <th>Medicaid Amount Reimbursed</th>\n",
       "      <th>Non Medicaid Amount Reimbursed</th>\n",
       "      <th>Location</th>\n",
       "    </tr>\n",
       "  </thead>\n",
       "  <tbody>\n",
       "    <tr>\n",
       "      <th>0</th>\n",
       "      <td>MCOU</td>\n",
       "      <td>PA</td>\n",
       "      <td>55150023930</td>\n",
       "      <td>Dexamethas</td>\n",
       "      <td>33.0</td>\n",
       "      <td>19.0</td>\n",
       "      <td>234.98</td>\n",
       "      <td>234.98</td>\n",
       "      <td>0.00</td>\n",
       "      <td>(40.5773, -77.264)</td>\n",
       "    </tr>\n",
       "    <tr>\n",
       "      <th>1</th>\n",
       "      <td>FFSU</td>\n",
       "      <td>NY</td>\n",
       "      <td>23917710</td>\n",
       "      <td>ALPHAGAN P</td>\n",
       "      <td>570.0</td>\n",
       "      <td>57.0</td>\n",
       "      <td>16006.34</td>\n",
       "      <td>16006.34</td>\n",
       "      <td>0.00</td>\n",
       "      <td>(42.1497, -74.9384)</td>\n",
       "    </tr>\n",
       "    <tr>\n",
       "      <th>2</th>\n",
       "      <td>MCOU</td>\n",
       "      <td>OR</td>\n",
       "      <td>13925050501</td>\n",
       "      <td>Dapsone 10</td>\n",
       "      <td>456.0</td>\n",
       "      <td>15.0</td>\n",
       "      <td>1052.42</td>\n",
       "      <td>1052.42</td>\n",
       "      <td>0.00</td>\n",
       "      <td>(44.5672, -122.1269)</td>\n",
       "    </tr>\n",
       "    <tr>\n",
       "      <th>3</th>\n",
       "      <td>FFSU</td>\n",
       "      <td>MN</td>\n",
       "      <td>51862006401</td>\n",
       "      <td>DIAZEPAM</td>\n",
       "      <td>780.0</td>\n",
       "      <td>16.0</td>\n",
       "      <td>89.60</td>\n",
       "      <td>77.60</td>\n",
       "      <td>12.00</td>\n",
       "      <td>(45.7326, -93.9196)</td>\n",
       "    </tr>\n",
       "    <tr>\n",
       "      <th>4</th>\n",
       "      <td>FFSU</td>\n",
       "      <td>MN</td>\n",
       "      <td>781237101</td>\n",
       "      <td>DEXTROAMPH</td>\n",
       "      <td>451.0</td>\n",
       "      <td>12.0</td>\n",
       "      <td>1411.24</td>\n",
       "      <td>198.93</td>\n",
       "      <td>1212.31</td>\n",
       "      <td>(45.7326, -93.9196)</td>\n",
       "    </tr>\n",
       "  </tbody>\n",
       "</table>\n",
       "</div>"
      ],
      "text/plain": [
       "  Utilization Type State          NDC Product Name  Units Reimbursed  \\\n",
       "0             MCOU    PA  55150023930   Dexamethas              33.0   \n",
       "1             FFSU    NY     23917710   ALPHAGAN P             570.0   \n",
       "2             MCOU    OR  13925050501   Dapsone 10             456.0   \n",
       "3             FFSU    MN  51862006401     DIAZEPAM             780.0   \n",
       "4             FFSU    MN    781237101   DEXTROAMPH             451.0   \n",
       "\n",
       "   Number of Prescriptions  Total Amount Reimbursed  \\\n",
       "0                     19.0                   234.98   \n",
       "1                     57.0                 16006.34   \n",
       "2                     15.0                  1052.42   \n",
       "3                     16.0                    89.60   \n",
       "4                     12.0                  1411.24   \n",
       "\n",
       "   Medicaid Amount Reimbursed  Non Medicaid Amount Reimbursed  \\\n",
       "0                      234.98                            0.00   \n",
       "1                    16006.34                            0.00   \n",
       "2                     1052.42                            0.00   \n",
       "3                       77.60                           12.00   \n",
       "4                      198.93                         1212.31   \n",
       "\n",
       "               Location  \n",
       "0    (40.5773, -77.264)  \n",
       "1   (42.1497, -74.9384)  \n",
       "2  (44.5672, -122.1269)  \n",
       "3   (45.7326, -93.9196)  \n",
       "4   (45.7326, -93.9196)  "
      ]
     },
     "execution_count": 20,
     "metadata": {},
     "output_type": "execute_result"
    }
   ],
   "source": [
    "medicaid_data = pd.read_csv(\"data/medicaid_data.csv\")\n",
    "medicaid_data.head()"
   ]
  },
  {
   "cell_type": "markdown",
   "metadata": {},
   "source": [
    "\n",
    "- Modify `medicaid_data` to uppercase all the column names \n",
    "\n",
    "  - If your solution uses an assignment, the righthand side of the assignment (rvalue) can only use `DataFrame` or `Series` methods or properties\n"
   ]
  },
  {
   "cell_type": "code",
   "execution_count": 21,
   "metadata": {},
   "outputs": [],
   "source": [
    "medicaid_data.columns = medicaid_data.columns.str.upper()"
   ]
  },
  {
   "cell_type": "markdown",
   "metadata": {},
   "source": [
    "\n",
    "- Familiarize your self with the data\n",
    "  - the `NDC` column stands for National Drug Code, a universal product identifier for human drugs in the United States\n",
    "  \n",
    "  - The remaining column names are self-explanatory\n",
    "  \n",
    "- Explore the number of lines and columns in the data\n",
    "\n",
    "- Check that your column headers are in uppercase"
   ]
  },
  {
   "cell_type": "code",
   "execution_count": 22,
   "metadata": {},
   "outputs": [
    {
     "data": {
      "text/plain": [
       "(1695546, 10)"
      ]
     },
     "execution_count": 22,
     "metadata": {},
     "output_type": "execute_result"
    }
   ],
   "source": [
    "medicaid_data.shape"
   ]
  },
  {
   "cell_type": "code",
   "execution_count": 23,
   "metadata": {},
   "outputs": [
    {
     "data": {
      "text/plain": [
       "Index(['UTILIZATION TYPE', 'STATE', 'NDC', 'PRODUCT NAME', 'UNITS REIMBURSED',\n",
       "       'NUMBER OF PRESCRIPTIONS', 'TOTAL AMOUNT REIMBURSED',\n",
       "       'MEDICAID AMOUNT REIMBURSED', 'NON MEDICAID AMOUNT REIMBURSED',\n",
       "       'LOCATION'],\n",
       "      dtype='object')"
      ]
     },
     "execution_count": 23,
     "metadata": {},
     "output_type": "execute_result"
    }
   ],
   "source": [
    "medicaid_data.columns"
   ]
  },
  {
   "cell_type": "markdown",
   "metadata": {},
   "source": [
    "* If you explore the  `Location` column for all the entries for which \"STATE\" value is equal to \"HI\" you'll notice that all the values are identical\n",
    "\n",
    "* Are there any states that have more than one value for `Location`. \n",
    "  * Hint: think about using a sorted aggregation as part of a split-apply-combine operation to answer this question\n",
    "  - Your answer can only use `DataFrame` or `Series` methods or properties\n"
   ]
  },
  {
   "cell_type": "code",
   "execution_count": 24,
   "metadata": {},
   "outputs": [
    {
     "name": "stdout",
     "output_type": "stream",
     "text": [
      "Series([], Name: LOCATION, dtype: object)\n"
     ]
    }
   ],
   "source": [
    "state_locations = medicaid_data.groupby('STATE')['LOCATION'].agg(set)\n",
    "states_with_multiple_locations = state_locations[state_locations.apply(len) > 1]\n",
    "print(states_with_multiple_locations)"
   ]
  },
  {
   "cell_type": "markdown",
   "metadata": {},
   "source": [
    "\n",
    "\n",
    "* To compare medication prescriptions across states in a fair and balanced way, we need the number of Medicaid beneficiaries in each state. The following example illustrates the importance of normalizing the values `UNITS REIMBURSED` for each medication in each state by the number of Medicaid enrollees in each state.\n",
    "  \n",
    "* The `medicaid_data` DataFrame shows that for the drug with NDC `61958180101` (the drug name is HARVONI and it's used to treat Hepatitis C) there were 11,886  units sold in KY, versus 40,142 in CA -- that's almost 4 times more units sold in CA compared to KY. However, there are 1,284,193 Medicaid enrollees in KY, versus 13,096,861 in California. If we normalize the number of units sold in KY, versus CA, we find that the normalized there were close to 3 times more HARVONI prescription in KY  than in CA. This is ___perhaps___ justified by the fact the KY has one of the highest rates of reported cases of Hepatitis C in the US (2.7% in KY versus 0.2% in CA).\n",
    "  \n",
    "https://www.cdc.gov/hepatitis/statistics/2015surveillance/pdfs/2015hepsurveillancerpt.pdf"
   ]
  },
  {
   "cell_type": "markdown",
   "metadata": {},
   "source": [
    "* The number of enrollees per state was obtained here:\n",
    "\n",
    "    https://www.medicaid.gov/medicaid/managed-care/enrollment/index.html\n",
    "    \n",
    "    \n",
    "* A parsed/processed version (medicaid_enrollment.tsv) can be in data director of the assignment folder. Use `pandas` to load the medicaid_enrollmen file into DataFrame named `medicaid_enrollment`"
   ]
  },
  {
   "cell_type": "code",
   "execution_count": 25,
   "metadata": {},
   "outputs": [
    {
     "data": {
      "text/html": [
       "<div>\n",
       "<style scoped>\n",
       "    .dataframe tbody tr th:only-of-type {\n",
       "        vertical-align: middle;\n",
       "    }\n",
       "\n",
       "    .dataframe tbody tr th {\n",
       "        vertical-align: top;\n",
       "    }\n",
       "\n",
       "    .dataframe thead th {\n",
       "        text-align: right;\n",
       "    }\n",
       "</style>\n",
       "<table border=\"1\" class=\"dataframe\">\n",
       "  <thead>\n",
       "    <tr style=\"text-align: right;\">\n",
       "      <th></th>\n",
       "      <th>STATE</th>\n",
       "      <th>Total Medicaid Enrollees</th>\n",
       "    </tr>\n",
       "  </thead>\n",
       "  <tbody>\n",
       "    <tr>\n",
       "      <th>0</th>\n",
       "      <td>Alabama</td>\n",
       "      <td>1,050,989</td>\n",
       "    </tr>\n",
       "    <tr>\n",
       "      <th>1</th>\n",
       "      <td>Alaska</td>\n",
       "      <td>164,783</td>\n",
       "    </tr>\n",
       "    <tr>\n",
       "      <th>2</th>\n",
       "      <td>American Samoa</td>\n",
       "      <td>NaN</td>\n",
       "    </tr>\n",
       "    <tr>\n",
       "      <th>3</th>\n",
       "      <td>Arizona</td>\n",
       "      <td>1,740,520</td>\n",
       "    </tr>\n",
       "    <tr>\n",
       "      <th>4</th>\n",
       "      <td>Arkansas</td>\n",
       "      <td>762,166</td>\n",
       "    </tr>\n",
       "  </tbody>\n",
       "</table>\n",
       "</div>"
      ],
      "text/plain": [
       "            STATE Total Medicaid Enrollees\n",
       "0         Alabama                1,050,989\n",
       "1          Alaska                  164,783\n",
       "2  American Samoa                      NaN\n",
       "3         Arizona                1,740,520\n",
       "4        Arkansas                  762,166"
      ]
     },
     "execution_count": 25,
     "metadata": {},
     "output_type": "execute_result"
    }
   ],
   "source": [
    "medicaid_enrollment = pd.read_csv(\"data/medicaid_enrollment.tsv\", sep='\\t')\n",
    "medicaid_enrollment.head()"
   ]
  },
  {
   "cell_type": "markdown",
   "metadata": {},
   "source": [
    "* Modify `medicaid_enrollment` to uppercase all the column names \n",
    "\n",
    "  * Your answer can only use `DataFrame` or `Series` methods or properties\n",
    "  * Do not hardcode the operation by uppercasing the columns yourself\n"
   ]
  },
  {
   "cell_type": "code",
   "execution_count": 26,
   "metadata": {},
   "outputs": [],
   "source": [
    "medicaid_enrollment.columns = medicaid_enrollment.columns.str.upper()"
   ]
  },
  {
   "cell_type": "markdown",
   "metadata": {},
   "source": [
    "* Note that some states/territories have missing values. Remove the missing values and save the resulting `DataFrame` as a new variable named `medicaid_enrollment_cleaned`\n",
    "\n",
    "* Pay attention to how 'n/a' is given here!\n",
    "* After cleaning, do you still have the Guam entry? If so, reconsider what missing values means in this context"
   ]
  },
  {
   "cell_type": "code",
   "execution_count": 27,
   "metadata": {},
   "outputs": [],
   "source": [
    "medicaid_enrollment_cleaned = medicaid_enrollment.dropna()\n",
    "medicaid_enrollment_cleaned = medicaid_enrollment_cleaned[medicaid_enrollment_cleaned['TOTAL MEDICAID ENROLLEES'].str.contains('n/a')== False]"
   ]
  },
  {
   "cell_type": "markdown",
   "metadata": {},
   "source": [
    "### Converting `TOTAL MEDICAID ENROLLEE` Data Type\n",
    "\n",
    "* Given that data on `TOTAL MEDICAID ENROLLEE` column contains commas on file (ex. 3,269,999 instead of 3269999), `pandas` has erroneously set the data type for that column as a string. We need to convert the column from string to `int` since we will be using it in an arithmetic expression during normalization\n",
    "\n",
    " \n",
    "\n",
    "* Inspect the `dtype` property of \"TOTAL MEDICAID ENROLLEES\" column, and  make sure that the data type is `int`\n"
   ]
  },
  {
   "cell_type": "code",
   "execution_count": 28,
   "metadata": {},
   "outputs": [
    {
     "data": {
      "text/plain": [
       "dtype('int64')"
      ]
     },
     "execution_count": 28,
     "metadata": {},
     "output_type": "execute_result"
    }
   ],
   "source": [
    "medicaid_enrollment_cleaned['TOTAL MEDICAID ENROLLEES'] = medicaid_enrollment_cleaned['TOTAL MEDICAID ENROLLEES'].astype(str).str.replace(',', '').astype(int)\n",
    "medicaid_enrollment_cleaned['TOTAL MEDICAID ENROLLEES'].dtype"
   ]
  },
  {
   "cell_type": "markdown",
   "metadata": {},
   "source": [
    "### Associating `medicaid_data` and `medicaid_enrollment_cleaned`\n",
    "\n",
    "- We can use the shared State information across both tables to associate both tables (SQL JOIN).\n",
    "- However,  `medicaid_data` contains two-letter state abbreviations, while `medicaid_enrollment_cleaned` contains the complete state name\n",
    "  - We need to convert (or append) two-letter state abbreviations to `medicaid_enrollment_cleaned`\n",
    "\n",
    "- Pandas can read HTML and parse the code for tables. We will use that functionality to read in the state abbreviations from a Wikipedia page.\n",
    "  - A brief description of what the code does is included in the comments"
   ]
  },
  {
   "cell_type": "code",
   "execution_count": 29,
   "metadata": {},
   "outputs": [
    {
     "data": {
      "text/html": [
       "<div>\n",
       "<style scoped>\n",
       "    .dataframe tbody tr th:only-of-type {\n",
       "        vertical-align: middle;\n",
       "    }\n",
       "\n",
       "    .dataframe tbody tr th {\n",
       "        vertical-align: top;\n",
       "    }\n",
       "\n",
       "    .dataframe thead th {\n",
       "        text-align: right;\n",
       "    }\n",
       "</style>\n",
       "<table border=\"1\" class=\"dataframe\">\n",
       "  <thead>\n",
       "    <tr style=\"text-align: right;\">\n",
       "      <th></th>\n",
       "      <th>US STATE</th>\n",
       "      <th>POSTAL ABBREVIATION</th>\n",
       "      <th>STANDARD ABBREVIATION</th>\n",
       "    </tr>\n",
       "  </thead>\n",
       "  <tbody>\n",
       "    <tr>\n",
       "      <th>0</th>\n",
       "      <td>Alabama</td>\n",
       "      <td>AL</td>\n",
       "      <td>Ala.</td>\n",
       "    </tr>\n",
       "    <tr>\n",
       "      <th>1</th>\n",
       "      <td>Alaska</td>\n",
       "      <td>AK</td>\n",
       "      <td>Alaska</td>\n",
       "    </tr>\n",
       "    <tr>\n",
       "      <th>2</th>\n",
       "      <td>Arizona</td>\n",
       "      <td>AZ</td>\n",
       "      <td>Ariz.</td>\n",
       "    </tr>\n",
       "    <tr>\n",
       "      <th>3</th>\n",
       "      <td>Arkansas</td>\n",
       "      <td>AR</td>\n",
       "      <td>Ark.</td>\n",
       "    </tr>\n",
       "    <tr>\n",
       "      <th>4</th>\n",
       "      <td>California</td>\n",
       "      <td>CA</td>\n",
       "      <td>Calif.</td>\n",
       "    </tr>\n",
       "  </tbody>\n",
       "</table>\n",
       "</div>"
      ],
      "text/plain": [
       "     US STATE POSTAL ABBREVIATION STANDARD ABBREVIATION\n",
       "0     Alabama                  AL                  Ala.\n",
       "1      Alaska                  AK                Alaska\n",
       "2     Arizona                  AZ                 Ariz.\n",
       "3    Arkansas                  AR                  Ark.\n",
       "4  California                  CA                Calif."
      ]
     },
     "execution_count": 29,
     "metadata": {},
     "output_type": "execute_result"
    }
   ],
   "source": [
    "import requests\n",
    "\n",
    "url = 'https://www.50states.com/abbreviations.htm'\n",
    "header = {\n",
    "    \"User-Agent\": \"Mozilla/5.0 (X11; Linux x86_64) AppleWebKit/537.36 (KHTML, like Gecko) Chrome/50.0.2661.75 Safari/537.36\",\n",
    "    \"X-Requested-With\": \"XMLHttpRequest\"\n",
    "}\n",
    "\n",
    "r = requests.get(url, headers=header)\n",
    "\n",
    "tables = pd.read_html(r.text)\n",
    "\n",
    "\n",
    "# We access the desired table by giving it's index.\n",
    "# Since the URL contain only one table, then we can access that table using index 0\n",
    "Codes_abbreviations = tables[0]\n",
    "Codes_abbreviations.head(5)"
   ]
  },
  {
   "cell_type": "markdown",
   "metadata": {},
   "source": [
    "* Change the the DataFrame's headers from ['US STATE', 'POSTAL ABBREVIATION', 'STANDARD ABBREVIATION'] to ['US STATE', 'ABBREVIATION', STD ABBREVIATION]\n",
    "\n",
    "  * You can hard code this operation\n"
   ]
  },
  {
   "cell_type": "code",
   "execution_count": 30,
   "metadata": {},
   "outputs": [],
   "source": [
    "Codes_abbreviations = Codes_abbreviations.rename({'POSTAL ABBREVIATION':'ABBREVIATION', 'STANDARD ABBREVIATION':'STD ABBREVIATION'}, axis=1)"
   ]
  },
  {
   "cell_type": "markdown",
   "metadata": {},
   "source": [
    "* Combine the tables `medicaid_enrollment_cleaned` and `Codes_abbreviations` such that the resulting `DataFrame` contains all the columns in `medicaid_enrollment_cleaned` and only `ABBREVIATION` from `Codes_abbreviations` \n",
    "* Save the results to variable named `medicaid_enrollment_cleaned_with_zip`\n",
    "\n",
    "- `medicaid_enrollment_cleaned_with_zip` should look like the following ( '...' represents remaining data that is not shown):\n",
    "\n",
    "\n",
    "```\n",
    "   STATE    Total Medicaid Enrollees    ABBREVIATION\n",
    "0    Alabama    1,050,989    AL\n",
    "1    Alaska    164,783    AK\n",
    "2    Arizona    1,740,520    AZ\n",
    "3    Arkansas    762,166    AR\n",
    "4    California    13,096,861    CA\n",
    "...\n",
    "```"
   ]
  },
  {
   "cell_type": "code",
   "execution_count": 31,
   "metadata": {},
   "outputs": [
    {
     "data": {
      "text/html": [
       "<div>\n",
       "<style scoped>\n",
       "    .dataframe tbody tr th:only-of-type {\n",
       "        vertical-align: middle;\n",
       "    }\n",
       "\n",
       "    .dataframe tbody tr th {\n",
       "        vertical-align: top;\n",
       "    }\n",
       "\n",
       "    .dataframe thead th {\n",
       "        text-align: right;\n",
       "    }\n",
       "</style>\n",
       "<table border=\"1\" class=\"dataframe\">\n",
       "  <thead>\n",
       "    <tr style=\"text-align: right;\">\n",
       "      <th></th>\n",
       "      <th>STATE</th>\n",
       "      <th>TOTAL MEDICAID ENROLLEES</th>\n",
       "      <th>ABBREVIATION</th>\n",
       "    </tr>\n",
       "  </thead>\n",
       "  <tbody>\n",
       "    <tr>\n",
       "      <th>0</th>\n",
       "      <td>Alabama</td>\n",
       "      <td>1050989</td>\n",
       "      <td>AL</td>\n",
       "    </tr>\n",
       "    <tr>\n",
       "      <th>1</th>\n",
       "      <td>Alaska</td>\n",
       "      <td>164783</td>\n",
       "      <td>AK</td>\n",
       "    </tr>\n",
       "    <tr>\n",
       "      <th>2</th>\n",
       "      <td>Arizona</td>\n",
       "      <td>1740520</td>\n",
       "      <td>AZ</td>\n",
       "    </tr>\n",
       "    <tr>\n",
       "      <th>3</th>\n",
       "      <td>Arkansas</td>\n",
       "      <td>762166</td>\n",
       "      <td>AR</td>\n",
       "    </tr>\n",
       "    <tr>\n",
       "      <th>4</th>\n",
       "      <td>California</td>\n",
       "      <td>13096861</td>\n",
       "      <td>CA</td>\n",
       "    </tr>\n",
       "  </tbody>\n",
       "</table>\n",
       "</div>"
      ],
      "text/plain": [
       "        STATE  TOTAL MEDICAID ENROLLEES ABBREVIATION\n",
       "0     Alabama                   1050989           AL\n",
       "1      Alaska                    164783           AK\n",
       "2     Arizona                   1740520           AZ\n",
       "3    Arkansas                    762166           AR\n",
       "4  California                  13096861           CA"
      ]
     },
     "execution_count": 31,
     "metadata": {},
     "output_type": "execute_result"
    }
   ],
   "source": [
    "Codes_abbreviations = Codes_abbreviations.rename({'US STATE':'STATE'}, axis=1)\n",
    "medicaid_enrollment_cleaned_with_zip = pd.merge(medicaid_enrollment_cleaned, Codes_abbreviations[['STATE', 'ABBREVIATION']], on='STATE')\n",
    "medicaid_enrollment_cleaned_with_zip.head()"
   ]
  },
  {
   "cell_type": "markdown",
   "metadata": {},
   "source": [
    "* We have no further use for the column STATE in  `medicaid_enrollment_cleaned_with_zip`\n",
    "  * Remove the column make sure your data in `medicaid_enrollment_cleaned_with_zip` looks like the following  ( `...` represents remaining data that is not shown):\n",
    "\n",
    "```\n",
    "    Total Medicaid Enrollees    ABBREVIATION\n",
    "0   1,050,989                  AL\n",
    "1   164,783                    AK\n",
    "2   1,740,520                  AZ\n",
    "3   762,166                    AR\n",
    "4   13,096,861                 CA\n",
    "....\n",
    "```"
   ]
  },
  {
   "cell_type": "code",
   "execution_count": 32,
   "metadata": {},
   "outputs": [],
   "source": [
    "medicaid_enrollment_cleaned_with_zip = medicaid_enrollment_cleaned_with_zip.drop(columns=['STATE'])"
   ]
  },
  {
   "cell_type": "markdown",
   "metadata": {},
   "source": [
    "- Use `DataFrame medicaid_enrollment_cleaned_with_zip` to assign the appropriate number of Medicaid enrollees to each entry in the `medicaid_data`\n",
    "\n",
    "   I.E., instead of the 10 original columns, `medicaid_data` will now have an 11th column representing the `TOTAL MEDICAID ENROLLEES` according to the STATE value in the entry.\n",
    "   \n",
    "- Save the resulting DataFrame into a new variable called `medicaid_data_w_enrollments`\n",
    "- The resulting DataFrame should look like the following (`...` represents remaining data that is not shown):\n",
    "\n",
    "```\n",
    "UTILIZATION TYPE    STATE    NDC    PRODUCT NAME    UNITS REIMBURSED    NUMBER OF PRESCRIPTIONS    TOTAL AMOUNT REIMBURSED    MEDICAID AMOUNT REIMBURSED    NON MEDICAID AMOUNT REIMBURSED    LOCATION\n",
    "0    MCOU    PA    55150023930    Dexamethas    33.0    19.0    234.98    234.98    0.0    (40.5773, -77.264)\n",
    "1    FFSU    NY    23917710    ALPHAGAN P    570.0    57.0    16006.34    16006.34    0.0    (42.1497, -74.9384)\n",
    "2    MCOU    OR    13925050501    Dapsone 10    456.0    15.0    1052.42    1052.42    0.0    (44.5672, -122.1269)\n",
    "...\n",
    "```\n",
    "\n",
    "* The order of the columns in the `DataFrame` is not important. This answer uses the same approach as the one used to `merge` the tables above. "
   ]
  },
  {
   "cell_type": "code",
   "execution_count": 33,
   "metadata": {},
   "outputs": [],
   "source": [
    "medicaid_enrollment_cleaned_with_zip = medicaid_enrollment_cleaned_with_zip.rename({'ABBREVIATION':'STATE'}, axis=1)\n",
    "medicaid_data_w_enrollments = pd.merge(medicaid_data, medicaid_enrollment_cleaned_with_zip[['STATE', 'TOTAL MEDICAID ENROLLEES']], on='STATE')"
   ]
  },
  {
   "cell_type": "markdown",
   "metadata": {},
   "source": [
    "- Remove any lines where \"STATE\" or \"PRODUCT NAME\" are missing from  `medicaid_data_w_enrollments`"
   ]
  },
  {
   "cell_type": "code",
   "execution_count": 34,
   "metadata": {},
   "outputs": [],
   "source": [
    "medicaid_data_w_enrollments = medicaid_data_w_enrollments.dropna( how='any', subset=['STATE', 'PRODUCT NAME'])"
   ]
  },
  {
   "cell_type": "markdown",
   "metadata": {},
   "source": [
    "- Use [\"STATE\", \"PRODUCT NAME\"] as hierarchical index for `medicaid_data_w_enrollments`. Recall that a hierarchical index is simply an index with multiple levels of indexing (multiple columns)\n",
    "  * Hint: the function to set an index on a `DataFrame` can take a single column name or a list of column names. The list here is  [\"STATE\", \"NDC\"]\n",
    "- Call the new data `medicaid_data_w_enrollments_hierarch`\n",
    "- Inspect your data to make sure the new index has now two levels (STATE and NDC)"
   ]
  },
  {
   "cell_type": "code",
   "execution_count": 35,
   "metadata": {},
   "outputs": [
    {
     "data": {
      "text/html": [
       "<div>\n",
       "<style scoped>\n",
       "    .dataframe tbody tr th:only-of-type {\n",
       "        vertical-align: middle;\n",
       "    }\n",
       "\n",
       "    .dataframe tbody tr th {\n",
       "        vertical-align: top;\n",
       "    }\n",
       "\n",
       "    .dataframe thead th {\n",
       "        text-align: right;\n",
       "    }\n",
       "</style>\n",
       "<table border=\"1\" class=\"dataframe\">\n",
       "  <thead>\n",
       "    <tr style=\"text-align: right;\">\n",
       "      <th></th>\n",
       "      <th></th>\n",
       "      <th>UTILIZATION TYPE</th>\n",
       "      <th>PRODUCT NAME</th>\n",
       "      <th>UNITS REIMBURSED</th>\n",
       "      <th>NUMBER OF PRESCRIPTIONS</th>\n",
       "      <th>TOTAL AMOUNT REIMBURSED</th>\n",
       "      <th>MEDICAID AMOUNT REIMBURSED</th>\n",
       "      <th>NON MEDICAID AMOUNT REIMBURSED</th>\n",
       "      <th>LOCATION</th>\n",
       "      <th>TOTAL MEDICAID ENROLLEES</th>\n",
       "    </tr>\n",
       "    <tr>\n",
       "      <th>STATE</th>\n",
       "      <th>NDC</th>\n",
       "      <th></th>\n",
       "      <th></th>\n",
       "      <th></th>\n",
       "      <th></th>\n",
       "      <th></th>\n",
       "      <th></th>\n",
       "      <th></th>\n",
       "      <th></th>\n",
       "      <th></th>\n",
       "    </tr>\n",
       "  </thead>\n",
       "  <tbody>\n",
       "    <tr>\n",
       "      <th rowspan=\"3\" valign=\"top\">PA</th>\n",
       "      <th>55150023930</th>\n",
       "      <td>MCOU</td>\n",
       "      <td>Dexamethas</td>\n",
       "      <td>33.0</td>\n",
       "      <td>19.0</td>\n",
       "      <td>234.98</td>\n",
       "      <td>234.98</td>\n",
       "      <td>0.00</td>\n",
       "      <td>(40.5773, -77.264)</td>\n",
       "      <td>2569232</td>\n",
       "    </tr>\n",
       "    <tr>\n",
       "      <th>456060010</th>\n",
       "      <td>FFSU</td>\n",
       "      <td>TEFLARO 60</td>\n",
       "      <td>224.0</td>\n",
       "      <td>36.0</td>\n",
       "      <td>35752.31</td>\n",
       "      <td>35752.31</td>\n",
       "      <td>0.00</td>\n",
       "      <td>(40.5773, -77.264)</td>\n",
       "      <td>2569232</td>\n",
       "    </tr>\n",
       "    <tr>\n",
       "      <th>115692201</th>\n",
       "      <td>MCOU</td>\n",
       "      <td>DIVALPROEX</td>\n",
       "      <td>1626.0</td>\n",
       "      <td>20.0</td>\n",
       "      <td>2318.55</td>\n",
       "      <td>2287.80</td>\n",
       "      <td>30.75</td>\n",
       "      <td>(40.5773, -77.264)</td>\n",
       "      <td>2569232</td>\n",
       "    </tr>\n",
       "  </tbody>\n",
       "</table>\n",
       "</div>"
      ],
      "text/plain": [
       "                  UTILIZATION TYPE PRODUCT NAME  UNITS REIMBURSED  \\\n",
       "STATE NDC                                                           \n",
       "PA    55150023930             MCOU   Dexamethas              33.0   \n",
       "      456060010               FFSU   TEFLARO 60             224.0   \n",
       "      115692201               MCOU   DIVALPROEX            1626.0   \n",
       "\n",
       "                   NUMBER OF PRESCRIPTIONS  TOTAL AMOUNT REIMBURSED  \\\n",
       "STATE NDC                                                             \n",
       "PA    55150023930                     19.0                   234.98   \n",
       "      456060010                       36.0                 35752.31   \n",
       "      115692201                       20.0                  2318.55   \n",
       "\n",
       "                   MEDICAID AMOUNT REIMBURSED  NON MEDICAID AMOUNT REIMBURSED  \\\n",
       "STATE NDC                                                                       \n",
       "PA    55150023930                      234.98                            0.00   \n",
       "      456060010                      35752.31                            0.00   \n",
       "      115692201                       2287.80                           30.75   \n",
       "\n",
       "                             LOCATION  TOTAL MEDICAID ENROLLEES  \n",
       "STATE NDC                                                        \n",
       "PA    55150023930  (40.5773, -77.264)                   2569232  \n",
       "      456060010    (40.5773, -77.264)                   2569232  \n",
       "      115692201    (40.5773, -77.264)                   2569232  "
      ]
     },
     "execution_count": 35,
     "metadata": {},
     "output_type": "execute_result"
    }
   ],
   "source": [
    "medicaid_data_w_enrollments_hierach = medicaid_data_w_enrollments.set_index(['STATE', 'NDC'])\n",
    "medicaid_data_w_enrollments_hierach.head(3)"
   ]
  },
  {
   "cell_type": "markdown",
   "metadata": {},
   "source": [
    "\n",
    "* Write a single Pandas expression to print all the lines with containing NDC 61958180101 in \"PA\"\n",
    "\n",
    " * Use a single indexing call (bracket notation) using `loc`\n",
    " \n",
    " * Hint 1: Since your index is hierarchical, `loc` is expecting two values, the first for STATE and the second for NDC\n"
   ]
  },
  {
   "cell_type": "code",
   "execution_count": 36,
   "metadata": {},
   "outputs": [
    {
     "name": "stderr",
     "output_type": "stream",
     "text": [
      "/var/folders/94/dfws3bs526q9crvbr4m0tss80000gn/T/ipykernel_18718/996355958.py:1: PerformanceWarning: indexing past lexsort depth may impact performance.\n",
      "  medicaid_data_w_enrollments_hierach.loc[('PA', 61958180101)]\n"
     ]
    },
    {
     "data": {
      "text/html": [
       "<div>\n",
       "<style scoped>\n",
       "    .dataframe tbody tr th:only-of-type {\n",
       "        vertical-align: middle;\n",
       "    }\n",
       "\n",
       "    .dataframe tbody tr th {\n",
       "        vertical-align: top;\n",
       "    }\n",
       "\n",
       "    .dataframe thead th {\n",
       "        text-align: right;\n",
       "    }\n",
       "</style>\n",
       "<table border=\"1\" class=\"dataframe\">\n",
       "  <thead>\n",
       "    <tr style=\"text-align: right;\">\n",
       "      <th></th>\n",
       "      <th></th>\n",
       "      <th>UTILIZATION TYPE</th>\n",
       "      <th>PRODUCT NAME</th>\n",
       "      <th>UNITS REIMBURSED</th>\n",
       "      <th>NUMBER OF PRESCRIPTIONS</th>\n",
       "      <th>TOTAL AMOUNT REIMBURSED</th>\n",
       "      <th>MEDICAID AMOUNT REIMBURSED</th>\n",
       "      <th>NON MEDICAID AMOUNT REIMBURSED</th>\n",
       "      <th>LOCATION</th>\n",
       "      <th>TOTAL MEDICAID ENROLLEES</th>\n",
       "    </tr>\n",
       "    <tr>\n",
       "      <th>STATE</th>\n",
       "      <th>NDC</th>\n",
       "      <th></th>\n",
       "      <th></th>\n",
       "      <th></th>\n",
       "      <th></th>\n",
       "      <th></th>\n",
       "      <th></th>\n",
       "      <th></th>\n",
       "      <th></th>\n",
       "      <th></th>\n",
       "    </tr>\n",
       "  </thead>\n",
       "  <tbody>\n",
       "    <tr>\n",
       "      <th rowspan=\"6\" valign=\"top\">PA</th>\n",
       "      <th>61958180101</th>\n",
       "      <td>FFSU</td>\n",
       "      <td>Harvoni  (</td>\n",
       "      <td>924.0</td>\n",
       "      <td>33.0</td>\n",
       "      <td>1017644.54</td>\n",
       "      <td>985269.84</td>\n",
       "      <td>32374.70</td>\n",
       "      <td>(40.5773, -77.264)</td>\n",
       "      <td>2569232</td>\n",
       "    </tr>\n",
       "    <tr>\n",
       "      <th>61958180101</th>\n",
       "      <td>MCOU</td>\n",
       "      <td>Harvoni  (</td>\n",
       "      <td>2604.0</td>\n",
       "      <td>93.0</td>\n",
       "      <td>2952891.16</td>\n",
       "      <td>2860100.54</td>\n",
       "      <td>92790.62</td>\n",
       "      <td>(40.5773, -77.264)</td>\n",
       "      <td>2569232</td>\n",
       "    </tr>\n",
       "    <tr>\n",
       "      <th>61958180101</th>\n",
       "      <td>FFSU</td>\n",
       "      <td>Harvoni  (</td>\n",
       "      <td>1008.0</td>\n",
       "      <td>36.0</td>\n",
       "      <td>1107725.22</td>\n",
       "      <td>1107725.22</td>\n",
       "      <td>0.00</td>\n",
       "      <td>(40.5773, -77.264)</td>\n",
       "      <td>2569232</td>\n",
       "    </tr>\n",
       "    <tr>\n",
       "      <th>61958180101</th>\n",
       "      <td>MCOU</td>\n",
       "      <td>Harvoni  (</td>\n",
       "      <td>1932.0</td>\n",
       "      <td>69.0</td>\n",
       "      <td>2178602.30</td>\n",
       "      <td>2118612.30</td>\n",
       "      <td>59990.00</td>\n",
       "      <td>(40.5773, -77.264)</td>\n",
       "      <td>2569232</td>\n",
       "    </tr>\n",
       "    <tr>\n",
       "      <th>61958180101</th>\n",
       "      <td>FFSU</td>\n",
       "      <td>Harvoni  (</td>\n",
       "      <td>924.0</td>\n",
       "      <td>33.0</td>\n",
       "      <td>1015383.60</td>\n",
       "      <td>1015383.60</td>\n",
       "      <td>0.00</td>\n",
       "      <td>(40.5773, -77.264)</td>\n",
       "      <td>2569232</td>\n",
       "    </tr>\n",
       "    <tr>\n",
       "      <th>61958180101</th>\n",
       "      <td>MCOU</td>\n",
       "      <td>Harvoni  (</td>\n",
       "      <td>3220.0</td>\n",
       "      <td>115.0</td>\n",
       "      <td>3599192.35</td>\n",
       "      <td>3482188.68</td>\n",
       "      <td>117003.67</td>\n",
       "      <td>(40.5773, -77.264)</td>\n",
       "      <td>2569232</td>\n",
       "    </tr>\n",
       "  </tbody>\n",
       "</table>\n",
       "</div>"
      ],
      "text/plain": [
       "                  UTILIZATION TYPE PRODUCT NAME  UNITS REIMBURSED  \\\n",
       "STATE NDC                                                           \n",
       "PA    61958180101             FFSU   Harvoni  (             924.0   \n",
       "      61958180101             MCOU   Harvoni  (            2604.0   \n",
       "      61958180101             FFSU   Harvoni  (            1008.0   \n",
       "      61958180101             MCOU   Harvoni  (            1932.0   \n",
       "      61958180101             FFSU   Harvoni  (             924.0   \n",
       "      61958180101             MCOU   Harvoni  (            3220.0   \n",
       "\n",
       "                   NUMBER OF PRESCRIPTIONS  TOTAL AMOUNT REIMBURSED  \\\n",
       "STATE NDC                                                             \n",
       "PA    61958180101                     33.0               1017644.54   \n",
       "      61958180101                     93.0               2952891.16   \n",
       "      61958180101                     36.0               1107725.22   \n",
       "      61958180101                     69.0               2178602.30   \n",
       "      61958180101                     33.0               1015383.60   \n",
       "      61958180101                    115.0               3599192.35   \n",
       "\n",
       "                   MEDICAID AMOUNT REIMBURSED  NON MEDICAID AMOUNT REIMBURSED  \\\n",
       "STATE NDC                                                                       \n",
       "PA    61958180101                   985269.84                        32374.70   \n",
       "      61958180101                  2860100.54                        92790.62   \n",
       "      61958180101                  1107725.22                            0.00   \n",
       "      61958180101                  2118612.30                        59990.00   \n",
       "      61958180101                  1015383.60                            0.00   \n",
       "      61958180101                  3482188.68                       117003.67   \n",
       "\n",
       "                             LOCATION  TOTAL MEDICAID ENROLLEES  \n",
       "STATE NDC                                                        \n",
       "PA    61958180101  (40.5773, -77.264)                   2569232  \n",
       "      61958180101  (40.5773, -77.264)                   2569232  \n",
       "      61958180101  (40.5773, -77.264)                   2569232  \n",
       "      61958180101  (40.5773, -77.264)                   2569232  \n",
       "      61958180101  (40.5773, -77.264)                   2569232  \n",
       "      61958180101  (40.5773, -77.264)                   2569232  "
      ]
     },
     "execution_count": 36,
     "metadata": {},
     "output_type": "execute_result"
    }
   ],
   "source": [
    "medicaid_data_w_enrollments_hierach.loc[('PA', 61958180101)]"
   ]
  },
  {
   "cell_type": "markdown",
   "metadata": {},
   "source": [
    "#### Computing the normalized `UNITS REIMBURSED` per druc \n",
    "\n",
    "* Compute the `UNITS REIMBURSED` for each \"NDC\" in each state normalized by the number of enrollees.\n",
    "\n",
    "- For instance in `PA`, the total `UNITS REIMBURSED` for the HARVONI `NDC` (61958180101) is 10,612\n",
    "\n",
    "```python\n",
    "total_amount_reimbursed = medicaid_data_w_enrollments_hierarch.loc[(\"PA\", 61958180101), \"UNITS REIMBURSED\"].sum() \n",
    "```\n",
    "\n",
    "- And the numebr of Medicaid Enrollees in \"PA\" is 2,569,232\n",
    "\n",
    "\n",
    "```python\n",
    "total_enrollees_PA = medicaid_data_w_enrollments_hierarch.loc[\"PA\", \"TOTAL MEDICAID ENROLLEES\"].unique()[0]\n",
    "```\n",
    "- Therefore, the UNITS REIMBURSED per enrollee  for \"HARVONI\" is  0.00413041718303\n",
    "\n",
    "\n",
    "```python\n",
    "print(total_amount_reimbursed/total_enrollees_AK)\n",
    "```\n",
    "\n",
    "- Rather than work directly with the ratios, we are going to compute and work with thier logarithm (np.log2) instead.\n",
    "\n",
    "  - The reason we use logs here is to avoid working small numbers. More on log-transformation in future lectures\n",
    "\n",
    "- Save the result in a `Series` called `medicaid_reimbursement_per_enrollee`\n",
    "\n",
    "\n",
    "- Your final result should be a Series that look like the following ( `...` represents data that is not shown here):\n",
    "  \n",
    "```\n",
    "STATE  NDC    \n",
    "AK     2143380    -9.609109\n",
    "       2143480   -10.008280\n",
    "       2322730    -6.109830\n",
    "       2322830    -4.444321\n",
    "       2322930    -3.855995\n",
    "...\n",
    "\n",
    "AL     2143380    -9.940595\n",
    "       2143480    -9.805485\n",
    "       2322730    -5.336260\n",
    "...\n",
    "\n",
    "MA     2143380    -7.921997\n",
    "       2143480    -7.803463\n",
    "       2144511   -13.472194\n",
    "       2197590    -7.741402\n",
    "       2322730    -5.414724\n",
    "       2322830    -4.592154\n",
    "       2322930    -4.205626\n",
    "\n",
    "...\n",
    "\n",
    "\n",
    "```\n"
   ]
  },
  {
   "cell_type": "code",
   "execution_count": 37,
   "metadata": {},
   "outputs": [
    {
     "name": "stdout",
     "output_type": "stream",
     "text": [
      "STATE  NDC        \n",
      "AK     2143380        -9.609109\n",
      "       2143480       -10.008280\n",
      "       2322730        -6.109830\n",
      "       2322830        -4.444321\n",
      "       2322930        -3.855995\n",
      "                        ...    \n",
      "WY     76329336901    -9.773833\n",
      "       76385010301    -6.146779\n",
      "       76385010401    -4.707744\n",
      "       76385010501    -5.965123\n",
      "       76439030910    -4.794145\n",
      "Length: 468370, dtype: float64\n"
     ]
    }
   ],
   "source": [
    "# Calculate the total UNITS REIMBURSED per NDC per state\n",
    "total_units_reimbursed = medicaid_data_w_enrollments_hierach.groupby(['STATE', 'NDC'])['UNITS REIMBURSED'].sum()\n",
    "total_enrollees = medicaid_data_w_enrollments_hierach.groupby('STATE')['TOTAL MEDICAID ENROLLEES'].unique().apply(lambda x: x[0])\n",
    "\n",
    "# Calculate the UNITS REIMBURSED per enrollee for each NDC in each state\n",
    "units_reimbursed_per_enrollee = total_units_reimbursed / total_enrollees\n",
    "log_units_reimbursed_per_enrollee = np.log2(units_reimbursed_per_enrollee)\n",
    "medicaid_reimbursement_per_enrollee = log_units_reimbursed_per_enrollee\n",
    "\n",
    "print(medicaid_reimbursement_per_enrollee)"
   ]
  },
  {
   "cell_type": "markdown",
   "metadata": {},
   "source": [
    "- To facilitate working with the final data, we are going to unstack `medicaid_reimbursement_per_enrollee` into a variable called  `medicaid_norm_ndc`\n",
    "\n",
    "- Using `medicaid_reimbursement_per_enrollee`, generate a `DataFrame` where: \n",
    "  - index should be the two-letter state symbol \n",
    "  - the column names should be the NDC codes \n",
    "\n",
    "- The `DataFrame`  should be formatted as in the image below\n",
    "  - Hint, simply unstack the data\n"
   ]
  },
  {
   "cell_type": "markdown",
   "metadata": {},
   "source": [
    "<img src=\"media/unstacked.png\" alt=\"drawing\" style=\"width:900px;\"/>\n"
   ]
  },
  {
   "cell_type": "code",
   "execution_count": 47,
   "metadata": {},
   "outputs": [
    {
     "data": {
      "text/html": [
       "<div>\n",
       "<style scoped>\n",
       "    .dataframe tbody tr th:only-of-type {\n",
       "        vertical-align: middle;\n",
       "    }\n",
       "\n",
       "    .dataframe tbody tr th {\n",
       "        vertical-align: top;\n",
       "    }\n",
       "\n",
       "    .dataframe thead th {\n",
       "        text-align: right;\n",
       "    }\n",
       "</style>\n",
       "<table border=\"1\" class=\"dataframe\">\n",
       "  <thead>\n",
       "    <tr style=\"text-align: right;\">\n",
       "      <th>STATE</th>\n",
       "      <th>AK</th>\n",
       "      <th>AL</th>\n",
       "      <th>AR</th>\n",
       "      <th>AZ</th>\n",
       "      <th>CA</th>\n",
       "      <th>CO</th>\n",
       "      <th>CT</th>\n",
       "      <th>DE</th>\n",
       "      <th>FL</th>\n",
       "      <th>GA</th>\n",
       "      <th>...</th>\n",
       "      <th>SD</th>\n",
       "      <th>TN</th>\n",
       "      <th>TX</th>\n",
       "      <th>UT</th>\n",
       "      <th>VA</th>\n",
       "      <th>VT</th>\n",
       "      <th>WA</th>\n",
       "      <th>WI</th>\n",
       "      <th>WV</th>\n",
       "      <th>WY</th>\n",
       "    </tr>\n",
       "    <tr>\n",
       "      <th>NDC</th>\n",
       "      <th></th>\n",
       "      <th></th>\n",
       "      <th></th>\n",
       "      <th></th>\n",
       "      <th></th>\n",
       "      <th></th>\n",
       "      <th></th>\n",
       "      <th></th>\n",
       "      <th></th>\n",
       "      <th></th>\n",
       "      <th></th>\n",
       "      <th></th>\n",
       "      <th></th>\n",
       "      <th></th>\n",
       "      <th></th>\n",
       "      <th></th>\n",
       "      <th></th>\n",
       "      <th></th>\n",
       "      <th></th>\n",
       "      <th></th>\n",
       "      <th></th>\n",
       "    </tr>\n",
       "  </thead>\n",
       "  <tbody>\n",
       "    <tr>\n",
       "      <th>2143380</th>\n",
       "      <td>-9.609109</td>\n",
       "      <td>-9.940595</td>\n",
       "      <td>-12.985157</td>\n",
       "      <td>-11.533870</td>\n",
       "      <td>-10.926863</td>\n",
       "      <td>-10.862982</td>\n",
       "      <td>-8.405103</td>\n",
       "      <td>NaN</td>\n",
       "      <td>-13.534299</td>\n",
       "      <td>-15.018034</td>\n",
       "      <td>...</td>\n",
       "      <td>-9.568199</td>\n",
       "      <td>-12.240261</td>\n",
       "      <td>-11.361813</td>\n",
       "      <td>-12.066772</td>\n",
       "      <td>-9.779228</td>\n",
       "      <td>-11.085710</td>\n",
       "      <td>-11.374062</td>\n",
       "      <td>-14.299344</td>\n",
       "      <td>-10.526494</td>\n",
       "      <td>NaN</td>\n",
       "    </tr>\n",
       "    <tr>\n",
       "      <th>2143480</th>\n",
       "      <td>-10.008280</td>\n",
       "      <td>-9.805485</td>\n",
       "      <td>-12.657103</td>\n",
       "      <td>-10.821194</td>\n",
       "      <td>-10.698372</td>\n",
       "      <td>-9.925954</td>\n",
       "      <td>-7.948475</td>\n",
       "      <td>-10.274536</td>\n",
       "      <td>-12.569558</td>\n",
       "      <td>-13.858835</td>\n",
       "      <td>...</td>\n",
       "      <td>-9.218392</td>\n",
       "      <td>-11.699134</td>\n",
       "      <td>-10.857851</td>\n",
       "      <td>-10.625645</td>\n",
       "      <td>-9.485665</td>\n",
       "      <td>-10.407638</td>\n",
       "      <td>-11.446073</td>\n",
       "      <td>-14.884306</td>\n",
       "      <td>-9.958528</td>\n",
       "      <td>NaN</td>\n",
       "    </tr>\n",
       "    <tr>\n",
       "      <th>2144511</th>\n",
       "      <td>NaN</td>\n",
       "      <td>NaN</td>\n",
       "      <td>NaN</td>\n",
       "      <td>NaN</td>\n",
       "      <td>-16.127018</td>\n",
       "      <td>NaN</td>\n",
       "      <td>-12.411014</td>\n",
       "      <td>NaN</td>\n",
       "      <td>-18.053374</td>\n",
       "      <td>NaN</td>\n",
       "      <td>...</td>\n",
       "      <td>NaN</td>\n",
       "      <td>NaN</td>\n",
       "      <td>NaN</td>\n",
       "      <td>NaN</td>\n",
       "      <td>NaN</td>\n",
       "      <td>NaN</td>\n",
       "      <td>-14.825948</td>\n",
       "      <td>NaN</td>\n",
       "      <td>NaN</td>\n",
       "      <td>NaN</td>\n",
       "    </tr>\n",
       "    <tr>\n",
       "      <th>2144527</th>\n",
       "      <td>NaN</td>\n",
       "      <td>NaN</td>\n",
       "      <td>NaN</td>\n",
       "      <td>NaN</td>\n",
       "      <td>NaN</td>\n",
       "      <td>NaN</td>\n",
       "      <td>NaN</td>\n",
       "      <td>NaN</td>\n",
       "      <td>NaN</td>\n",
       "      <td>NaN</td>\n",
       "      <td>...</td>\n",
       "      <td>NaN</td>\n",
       "      <td>NaN</td>\n",
       "      <td>NaN</td>\n",
       "      <td>NaN</td>\n",
       "      <td>NaN</td>\n",
       "      <td>NaN</td>\n",
       "      <td>NaN</td>\n",
       "      <td>NaN</td>\n",
       "      <td>NaN</td>\n",
       "      <td>NaN</td>\n",
       "    </tr>\n",
       "    <tr>\n",
       "      <th>2197590</th>\n",
       "      <td>NaN</td>\n",
       "      <td>NaN</td>\n",
       "      <td>NaN</td>\n",
       "      <td>NaN</td>\n",
       "      <td>-9.464364</td>\n",
       "      <td>-7.608472</td>\n",
       "      <td>-6.677343</td>\n",
       "      <td>NaN</td>\n",
       "      <td>-10.239592</td>\n",
       "      <td>NaN</td>\n",
       "      <td>...</td>\n",
       "      <td>NaN</td>\n",
       "      <td>NaN</td>\n",
       "      <td>NaN</td>\n",
       "      <td>NaN</td>\n",
       "      <td>NaN</td>\n",
       "      <td>NaN</td>\n",
       "      <td>NaN</td>\n",
       "      <td>NaN</td>\n",
       "      <td>NaN</td>\n",
       "      <td>NaN</td>\n",
       "    </tr>\n",
       "  </tbody>\n",
       "</table>\n",
       "<p>5 rows × 50 columns</p>\n",
       "</div>"
      ],
      "text/plain": [
       "STATE           AK        AL         AR         AZ         CA         CO  \\\n",
       "NDC                                                                        \n",
       "2143380  -9.609109 -9.940595 -12.985157 -11.533870 -10.926863 -10.862982   \n",
       "2143480 -10.008280 -9.805485 -12.657103 -10.821194 -10.698372  -9.925954   \n",
       "2144511        NaN       NaN        NaN        NaN -16.127018        NaN   \n",
       "2144527        NaN       NaN        NaN        NaN        NaN        NaN   \n",
       "2197590        NaN       NaN        NaN        NaN  -9.464364  -7.608472   \n",
       "\n",
       "STATE           CT         DE         FL         GA  ...        SD         TN  \\\n",
       "NDC                                                  ...                        \n",
       "2143380  -8.405103        NaN -13.534299 -15.018034  ... -9.568199 -12.240261   \n",
       "2143480  -7.948475 -10.274536 -12.569558 -13.858835  ... -9.218392 -11.699134   \n",
       "2144511 -12.411014        NaN -18.053374        NaN  ...       NaN        NaN   \n",
       "2144527        NaN        NaN        NaN        NaN  ...       NaN        NaN   \n",
       "2197590  -6.677343        NaN -10.239592        NaN  ...       NaN        NaN   \n",
       "\n",
       "STATE           TX         UT        VA         VT         WA         WI  \\\n",
       "NDC                                                                        \n",
       "2143380 -11.361813 -12.066772 -9.779228 -11.085710 -11.374062 -14.299344   \n",
       "2143480 -10.857851 -10.625645 -9.485665 -10.407638 -11.446073 -14.884306   \n",
       "2144511        NaN        NaN       NaN        NaN -14.825948        NaN   \n",
       "2144527        NaN        NaN       NaN        NaN        NaN        NaN   \n",
       "2197590        NaN        NaN       NaN        NaN        NaN        NaN   \n",
       "\n",
       "STATE           WV  WY  \n",
       "NDC                     \n",
       "2143380 -10.526494 NaN  \n",
       "2143480  -9.958528 NaN  \n",
       "2144511        NaN NaN  \n",
       "2144527        NaN NaN  \n",
       "2197590        NaN NaN  \n",
       "\n",
       "[5 rows x 50 columns]"
      ]
     },
     "execution_count": 47,
     "metadata": {},
     "output_type": "execute_result"
    }
   ],
   "source": [
    "medicaid_reimbursement_per_enrollee = medicaid_reimbursement_per_enrollee.unstack()\n",
    "medicaid_reimbursement_per_enrollee.head()"
   ]
  },
  {
   "cell_type": "markdown",
   "metadata": {},
   "source": [
    "#### Exploring the data (very briefly) \n",
    "- What is the drug with the highest log-normalized ratio in Hawaii?\n"
   ]
  },
  {
   "cell_type": "code",
   "execution_count": 54,
   "metadata": {},
   "outputs": [
    {
     "name": "stdout",
     "output_type": "stream",
     "text": [
      "Drug with the highest log-normalized ratio in Hawaii: 43386009019\n"
     ]
    },
    {
     "data": {
      "text/plain": [
       "'GaviLyte -'"
      ]
     },
     "execution_count": 54,
     "metadata": {},
     "output_type": "execute_result"
    }
   ],
   "source": [
    "# The name of the medication is Gavilyte-G.\n",
    "highest_ratio_drug_hawaii = medicaid_reimbursement_per_enrollee['HI'].idxmax()\n",
    "print(\"Drug with the highest log-normalized ratio in Hawaii:\", highest_ratio_drug_hawaii)\n",
    "medicaid_data_w_enrollments[medicaid_data_w_enrollments['NDC'] == 43386009019]['PRODUCT NAME'].reset_index(drop=True)[0]"
   ]
  },
  {
   "cell_type": "markdown",
   "metadata": {},
   "source": [
    "* Investigate the NDC of the product with the highest log-normalized ratio in Hawaii \n",
    "  * What is it used for?\n",
    "\n",
    "* Compare the value of `Units Reimbursed` that product between HI and other states, (take for instance MA, FL, OR and WA)\n",
    "* Can you think for reasons why this product has the highest log-normalized ratio in Hawaii?"
   ]
  },
  {
   "cell_type": "markdown",
   "metadata": {},
   "source": [
    "Gavilyte-G is a laxative that works by drawing large amounts of water into the colon."
   ]
  },
  {
   "cell_type": "code",
   "execution_count": 55,
   "metadata": {},
   "outputs": [
    {
     "data": {
      "text/plain": [
       "UNITS REIMBURSED    5433.0\n",
       "Name: GAVILYTE-G, dtype: float64"
      ]
     },
     "execution_count": 55,
     "metadata": {},
     "output_type": "execute_result"
    }
   ],
   "source": [
    "# Compare the value of Units Reimbursed with other states\n",
    "# MASSACHESSETTS\n",
    "units_reimbursed_ma = medicaid_data_w_enrollments_hierach.groupby(['STATE', 'PRODUCT NAME'])['UNITS REIMBURSED'].sum()\n",
    "pd.DataFrame(units_reimbursed_ma['MA']).loc['GAVILYTE-G']"
   ]
  },
  {
   "cell_type": "code",
   "execution_count": 56,
   "metadata": {},
   "outputs": [
    {
     "data": {
      "text/plain": [
       "UNITS REIMBURSED    1848000.0\n",
       "Name: GAVILYTE-G, dtype: float64"
      ]
     },
     "execution_count": 56,
     "metadata": {},
     "output_type": "execute_result"
    }
   ],
   "source": [
    "# FLORIDA\n",
    "units_reimbursed_fl = medicaid_data_w_enrollments_hierach.groupby(['STATE', 'PRODUCT NAME'])['UNITS REIMBURSED'].sum()\n",
    "pd.DataFrame(units_reimbursed_fl['FL']).loc['GAVILYTE-G']"
   ]
  },
  {
   "cell_type": "code",
   "execution_count": 57,
   "metadata": {},
   "outputs": [
    {
     "data": {
      "text/plain": [
       "UNITS REIMBURSED    1908000.0\n",
       "Name: GAVILYTE-G, dtype: float64"
      ]
     },
     "execution_count": 57,
     "metadata": {},
     "output_type": "execute_result"
    }
   ],
   "source": [
    "# SOUTH CAROLINA\n",
    "units_reimbursed_sc = medicaid_data_w_enrollments_hierach.groupby(['STATE', 'PRODUCT NAME'])['UNITS REIMBURSED'].sum()\n",
    "pd.DataFrame(units_reimbursed_sc['SC']).loc['GAVILYTE-G']"
   ]
  },
  {
   "cell_type": "code",
   "execution_count": 58,
   "metadata": {},
   "outputs": [
    {
     "data": {
      "text/plain": [
       "UNITS REIMBURSED    1476000.0\n",
       "Name: GAVILYTE-G, dtype: float64"
      ]
     },
     "execution_count": 58,
     "metadata": {},
     "output_type": "execute_result"
    }
   ],
   "source": [
    "# ALASKA\n",
    "units_reimbursed_ak = medicaid_data_w_enrollments_hierach.groupby(['STATE', 'PRODUCT NAME'])['UNITS REIMBURSED'].sum()\n",
    "pd.DataFrame(units_reimbursed_ak['AK']).loc['GAVILYTE-G']"
   ]
  },
  {
   "cell_type": "markdown",
   "metadata": {},
   "source": [
    "* Find and list all unique `NDC`s for which the difference between the largest and second large log-normalized ratio by state is at least 10.\n",
    "\n",
    "* For instance:\n",
    "  * The highest log-normalized ratio for `00591289749` (`AZACITIDIN`) is OK where it has a log-normalized ratio  of `-1.025642`.\n",
    "  * The second highest log-normalized ratio for `00591289749` is in `GA` where is has a log-normalized ration of  `-12.623428`\n",
    "  \n"
   ]
  },
  {
   "cell_type": "code",
   "execution_count": 59,
   "metadata": {},
   "outputs": [
    {
     "name": "stdout",
     "output_type": "stream",
     "text": [
      "[]\n"
     ]
    }
   ],
   "source": [
    "# Calculate the difference between the largest and second-largest log-normalized ratio by state\n",
    "difference_by_state = medicaid_reimbursement_per_enrollee.apply(lambda x: x.nlargest(2).diff().iloc[-1], axis=1)\n",
    "ndcs_with_difference_at_least_10 = difference_by_state[difference_by_state >= 10]\n",
    "\n",
    "unique_ndcs = ndcs_with_difference_at_least_10.index.tolist()\n",
    "print(unique_ndcs)"
   ]
  },
  {
   "cell_type": "markdown",
   "metadata": {},
   "source": [
    "- The Drug `AZACITIDINE` has a very high normalized UNITS REIMBURSED in OK compared to other states.\n",
    "   - Normalized log value is -1.025642 (or a ratio 0.49119167009735065)\n",
    "   - Second highest state has a log value of -12.623428 (0.000158478197834722)\n",
    "- Oklahoma is not a high-incidence state for cancer\n",
    "- Could the following explain what is happening in Oklahoma?\n",
    "\n",
    "https://www.centerwatch.com/clinical-trials/listings/92093/acute-myeloid-leukemia-aml-study-asp2215-gilteritinib-by/?&geo_lat=35.4675602&geo_lng=-97.5164276&radius=10"
   ]
  }
 ],
 "metadata": {
  "hide_input": false,
  "kernelspec": {
   "display_name": "Python 3 (ipykernel)",
   "language": "python",
   "name": "python3"
  },
  "language_info": {
   "codemirror_mode": {
    "name": "ipython",
    "version": 3
   },
   "file_extension": ".py",
   "mimetype": "text/x-python",
   "name": "python",
   "nbconvert_exporter": "python",
   "pygments_lexer": "ipython3",
   "version": "3.9.7"
  }
 },
 "nbformat": 4,
 "nbformat_minor": 2
}
